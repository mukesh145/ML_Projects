{
 "cells": [
  {
   "cell_type": "code",
   "execution_count": 9,
   "metadata": {},
   "outputs": [],
   "source": [
    "from selenium import webdriver\n",
    "import time\n",
    "import pandas as pd\n",
    "import os\n",
    "from selenium.webdriver.common.by import By"
   ]
  },
  {
   "cell_type": "code",
   "execution_count": 17,
   "metadata": {},
   "outputs": [],
   "source": [
    "def getInfo(driver):\n",
    "    i = 3\n",
    "    while True:\n",
    "        info_dict = {}\n",
    "        time.sleep(1)\n",
    "\n",
    "        try:\n",
    "            title = driver.find_element(By.XPATH,'//*[@id=\"search\"]/div[1]/div[1]/div/span[1]/div[1]/div['+str(i)+']/div/div/span/div/div/div/div[2]/div/div/div[1]/h2').text\n",
    "            price = driver.find_element(By.XPATH,'//*[@id=\"search\"]/div[1]/div[1]/div/span[1]/div[1]/div['+str(i)+']/div/div/span/div/div/div/div[2]/div/div/div[3]/div[1]/div/div[1]/div[1]/div[1]/a/span/span[2]/span[2]').text\n",
    "        except:\n",
    "            title = '-'\n",
    "            price = '-'\n",
    "        \n",
    "        i+=1\n",
    "\n",
    "        info_dict['title'] = title\n",
    "        info_dict['price'] = price\n",
    "\n",
    "        df = pd.DataFrame([info_dict])\n",
    "\n",
    "        if os.stat(\"data.csv\").st_size == 0:\n",
    "            df.to_csv('data.csv',  mode='a', index=False, header=\"data\")\n",
    "        else:\n",
    "            df.to_csv('data.csv',  mode='a', index=False, header=False)\n",
    "\n",
    "\n"
   ]
  },
  {
   "cell_type": "code",
   "execution_count": null,
   "metadata": {},
   "outputs": [],
   "source": [
    "driver = webdriver.Chrome()\n",
    "driver.get('https://www.amazon.com/s?k=samsung+phones&crid=39H6TCJSFQX9Q&sprefix=samsung+phone%2Caps%2C400&ref=nb_sb_noss_1')\n",
    "driver.maximize_window()\n",
    "time.sleep(3)\n",
    "driver.refresh()\n",
    "getInfo(driver)\n"
   ]
  }
 ],
 "metadata": {
  "kernelspec": {
   "display_name": "Python 3",
   "language": "python",
   "name": "python3"
  },
  "language_info": {
   "codemirror_mode": {
    "name": "ipython",
    "version": 3
   },
   "file_extension": ".py",
   "mimetype": "text/x-python",
   "name": "python",
   "nbconvert_exporter": "python",
   "pygments_lexer": "ipython3",
   "version": "3.12.0"
  }
 },
 "nbformat": 4,
 "nbformat_minor": 2
}
